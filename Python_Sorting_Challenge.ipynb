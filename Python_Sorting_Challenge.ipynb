{
  "nbformat": 4,
  "nbformat_minor": 0,
  "metadata": {
    "colab": {
      "provenance": [],
      "authorship_tag": "ABX9TyN5ug4EA+JW44h9c6vrMSWR",
      "include_colab_link": true
    },
    "kernelspec": {
      "name": "python3",
      "display_name": "Python 3"
    },
    "language_info": {
      "name": "python"
    }
  },
  "cells": [
    {
      "cell_type": "markdown",
      "metadata": {
        "id": "view-in-github",
        "colab_type": "text"
      },
      "source": [
        "<a href=\"https://colab.research.google.com/github/agamlotey/Python-Sorting-Challenge/blob/main/Python_Sorting_Challenge.ipynb\" target=\"_parent\"><img src=\"https://colab.research.google.com/assets/colab-badge.svg\" alt=\"Open In Colab\"/></a>"
      ]
    },
    {
      "cell_type": "code",
      "execution_count": 1,
      "metadata": {
        "colab": {
          "base_uri": "https://localhost:8080/"
        },
        "id": "Ui5aimFQt6JN",
        "outputId": "a1db9fd3-8b5b-4cf1-de1c-dec9670e1827"
      },
      "outputs": [
        {
          "output_type": "stream",
          "name": "stdout",
          "text": [
            "[1, 2, 3, 'Ram', 'Shayam', 'Aman']\n"
          ]
        }
      ],
      "source": [
        "l=[\"Ram\",1,\"Shayam\",2,\"Aman\",3]\n",
        "l1=[]\n",
        "l2=[]\n",
        "for i in l:\n",
        "  try:\n",
        "    l1.append(int(i))\n",
        "  except:\n",
        "    l2.append(i)\n",
        "l3=l1+l2\n",
        "print(l3)"
      ]
    },
    {
      "cell_type": "code",
      "source": [
        "l = [\"Ram\", 1, \"Shayam\", 2, \"Aman\", 3]\n",
        "l.sort(key=str)\n",
        "print(l)"
      ],
      "metadata": {
        "colab": {
          "base_uri": "https://localhost:8080/"
        },
        "id": "z7T6tt2YvAI4",
        "outputId": "93ff0312-27a8-45d8-c8c5-05d9bc41cfa6"
      },
      "execution_count": 2,
      "outputs": [
        {
          "output_type": "stream",
          "name": "stdout",
          "text": [
            "[1, 2, 3, 'Aman', 'Ram', 'Shayam']\n"
          ]
        }
      ]
    },
    {
      "cell_type": "code",
      "source": [
        "l = [\"Ram\", 1, \"Shayam\", 2, \"Aman\", 3]\n",
        "\n",
        "strings = [x for x in l if isinstance(x, str)]\n",
        "numbers = [x for x in l if isinstance(x, int)]\n",
        "\n",
        "strings.sort()\n",
        "numbers.sort()\n",
        "final=strings+numbers\n",
        "print(final)\n"
      ],
      "metadata": {
        "colab": {
          "base_uri": "https://localhost:8080/"
        },
        "id": "sKhuSijdvCOv",
        "outputId": "fec5e588-f997-492a-9748-5f26027b0dc4"
      },
      "execution_count": 3,
      "outputs": [
        {
          "output_type": "stream",
          "name": "stdout",
          "text": [
            "['Aman', 'Ram', 'Shayam', 1, 2, 3]\n"
          ]
        }
      ]
    }
  ]
}